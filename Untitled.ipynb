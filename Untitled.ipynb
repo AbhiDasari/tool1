{
 "cells": [
  {
   "cell_type": "code",
   "execution_count": 87,
   "metadata": {},
   "outputs": [],
   "source": [
    "import pandas as pd\n",
    "from sklearn.tree import DecisionTreeClassifier \n",
    "from sklearn.model_selection import train_test_split\n",
    "from sklearn import metrics "
   ]
  },
  {
   "cell_type": "code",
   "execution_count": 42,
   "metadata": {},
   "outputs": [],
   "source": [
    "pima = pd.read_csv('pass_data.csv')"
   ]
  },
  {
   "cell_type": "code",
   "execution_count": 43,
   "metadata": {},
   "outputs": [
    {
     "data": {
      "text/html": [
       "<div>\n",
       "<style scoped>\n",
       "    .dataframe tbody tr th:only-of-type {\n",
       "        vertical-align: middle;\n",
       "    }\n",
       "\n",
       "    .dataframe tbody tr th {\n",
       "        vertical-align: top;\n",
       "    }\n",
       "\n",
       "    .dataframe thead th {\n",
       "        text-align: right;\n",
       "    }\n",
       "</style>\n",
       "<table border=\"1\" class=\"dataframe\">\n",
       "  <thead>\n",
       "    <tr style=\"text-align: right;\">\n",
       "      <th></th>\n",
       "      <th>AppName</th>\n",
       "      <th>TCID</th>\n",
       "      <th>STATUS</th>\n",
       "      <th>EXEDATE</th>\n",
       "      <th>PASSED</th>\n",
       "    </tr>\n",
       "  </thead>\n",
       "  <tbody>\n",
       "    <tr>\n",
       "      <td>0</td>\n",
       "      <td>OnePlan</td>\n",
       "      <td>1</td>\n",
       "      <td>Pass</td>\n",
       "      <td>07.24.19</td>\n",
       "      <td>2.1</td>\n",
       "    </tr>\n",
       "    <tr>\n",
       "      <td>1</td>\n",
       "      <td>OnePlan</td>\n",
       "      <td>2</td>\n",
       "      <td>Pass</td>\n",
       "      <td>09.24.19</td>\n",
       "      <td>2.1</td>\n",
       "    </tr>\n",
       "    <tr>\n",
       "      <td>2</td>\n",
       "      <td>OnePlan</td>\n",
       "      <td>3</td>\n",
       "      <td>Pass</td>\n",
       "      <td>04.17.19</td>\n",
       "      <td>2.1</td>\n",
       "    </tr>\n",
       "    <tr>\n",
       "      <td>3</td>\n",
       "      <td>OnePlan</td>\n",
       "      <td>12</td>\n",
       "      <td>Pass</td>\n",
       "      <td>08.18.19</td>\n",
       "      <td>2.1</td>\n",
       "    </tr>\n",
       "    <tr>\n",
       "      <td>4</td>\n",
       "      <td>OnePlan</td>\n",
       "      <td>18</td>\n",
       "      <td>Pass</td>\n",
       "      <td>04.26.19</td>\n",
       "      <td>2.1</td>\n",
       "    </tr>\n",
       "  </tbody>\n",
       "</table>\n",
       "</div>"
      ],
      "text/plain": [
       "   AppName  TCID STATUS   EXEDATE  PASSED\n",
       "0  OnePlan     1   Pass  07.24.19     2.1\n",
       "1  OnePlan     2   Pass  09.24.19     2.1\n",
       "2  OnePlan     3   Pass  04.17.19     2.1\n",
       "3  OnePlan    12   Pass  08.18.19     2.1\n",
       "4  OnePlan    18   Pass  04.26.19     2.1"
      ]
     },
     "execution_count": 43,
     "metadata": {},
     "output_type": "execute_result"
    }
   ],
   "source": [
    "pima.head()"
   ]
  },
  {
   "cell_type": "code",
   "execution_count": 64,
   "metadata": {},
   "outputs": [
    {
     "data": {
      "text/plain": [
       "0      072419\n",
       "1      092419\n",
       "2      041719\n",
       "3      081819\n",
       "4      042619\n",
       "        ...  \n",
       "754    051819\n",
       "755    070319\n",
       "756    072919\n",
       "757    082519\n",
       "758    040419\n",
       "Name: mEXEDATE, Length: 759, dtype: object"
      ]
     },
     "execution_count": 64,
     "metadata": {},
     "output_type": "execute_result"
    }
   ],
   "source": [
    "pima['AppName'].unique()\n",
    "dict={'OnePlan':1, 'VPlan':2, 'ICGS':3, 'COEP':4, 'GFIM':5, 'PRS':6, 'WFM':7, 'COEA':8,\n",
    "       'vATOM':9, 'DNM':10}\n",
    "pima['mAppName']=pima['AppName'].map(dict)\n",
    "dict1={\"Pass\":1,\"Fail\":0}\n",
    "pima['mSTATUS']=pima['STATUS'].map(dict1)\n",
    "pima['mPASSED']=pima['PASSED'].apply(lambda x: int(x*10))\n",
    "pima['mEXEDATE']=pima['EXEDATE'].apply(lambda x: str(x).replace('.',\"\"))\n",
    "pima['mEXEDATE']"
   ]
  },
  {
   "cell_type": "code",
   "execution_count": 65,
   "metadata": {},
   "outputs": [],
   "source": [
    "feature_cols = ['mAppName', 'TCID', 'mSTATUS','mEXEDATE']\n",
    "X = pima[feature_cols] # Features\n",
    "y = pima.mPASSED # Target variable\n"
   ]
  },
  {
   "cell_type": "code",
   "execution_count": 66,
   "metadata": {},
   "outputs": [
    {
     "name": "stdout",
     "output_type": "stream",
     "text": [
      "     mAppName  TCID  mSTATUS mEXEDATE\n",
      "626         5   136        1   060119\n",
      "333         7   137        1   072819\n",
      "257         6    20        1   091519\n",
      "173         4    37        1   082819\n",
      "242         5   156        1   040919\n",
      "..        ...   ...      ...      ...\n",
      "645         6    98        1   050119\n",
      "715         9    27        1   051619\n",
      "72          2    75        1   040919\n",
      "235         5   127        1   092119\n",
      "37          1   155        1   041019\n",
      "\n",
      "[531 rows x 4 columns]\n"
     ]
    }
   ],
   "source": [
    "X_train, X_test, y_train, y_test = train_test_split(X, y, test_size=0.3, random_state=1)\n",
    "print(X_train)"
   ]
  },
  {
   "cell_type": "code",
   "execution_count": 88,
   "metadata": {},
   "outputs": [
    {
     "name": "stderr",
     "output_type": "stream",
     "text": [
      "C:\\Users\\761317\\AppData\\Roaming\\Python\\Python36\\site-packages\\sklearn\\linear_model\\logistic.py:432: FutureWarning: Default solver will be changed to 'lbfgs' in 0.22. Specify a solver to silence this warning.\n",
      "  FutureWarning)\n"
     ]
    }
   ],
   "source": [
    "clf = LogisticRegression(criterion=\"entropy\", max_depth=4)\n",
    "clf = clf.fit(X_train,y_train)\n"
   ]
  },
  {
   "cell_type": "code",
   "execution_count": 89,
   "metadata": {},
   "outputs": [],
   "source": [
    "y_pred = clf.predict(X_test)"
   ]
  },
  {
   "cell_type": "code",
   "execution_count": 84,
   "metadata": {},
   "outputs": [
    {
     "name": "stdout",
     "output_type": "stream",
     "text": [
      "Accuracy: 0.6140350877192983\n"
     ]
    }
   ],
   "source": [
    "print(\"Accuracy:\",metrics.accuracy_score(y_test, y_pred))"
   ]
  },
  {
   "cell_type": "code",
   "execution_count": 85,
   "metadata": {},
   "outputs": [
    {
     "name": "stdout",
     "output_type": "stream",
     "text": [
      "[21 21 21 21 21 21 21 21 21 21 21 21 21 21 22 21 21 21 21 21 22 21 22 21\n",
      " 21 21 21 21 21 21 21 21 22 21 21 21 21 21 21 21 21 22 21 22 21 21 21 21\n",
      " 21 21 21 21 21 21 21 21 21 21 21 21 21 21 21 21 21 21 21 21 21 21 21 21\n",
      " 21 21 21 21 21 21 21 22 21 21 22 21 21 21 21 21 21 21 21 21 21 21 21 21\n",
      " 21 22 22 21 22 22 22 22 21 21 21 22 21 21 21 21 21 21 21 21 21 21 21 21\n",
      " 21 21 21 21 21 21 21 21 21 21 21 21 21 21 21 21 21 21 21 21 21 21 21 22\n",
      " 21 21 21 21 22 21 22 21 21 21 21 21 21 21 21 21 22 21 21 21 21 21 21 21\n",
      " 21 21 21 21 21 21 21 21 21 21 21 21 21 22 21 21 21 21 21 21 21 21 21 21\n",
      " 21 21 21 21 22 21 21 21 21 21 21 21 21 21 21 21 21 22 21 21 21 21 21 21\n",
      " 22 21 21 21 21 21 21 21 21 21 21 21]\n"
     ]
    }
   ],
   "source": [
    "print(y_pred)"
   ]
  },
  {
   "cell_type": "code",
   "execution_count": null,
   "metadata": {},
   "outputs": [],
   "source": []
  }
 ],
 "metadata": {
  "kernelspec": {
   "display_name": "Python 3",
   "language": "python",
   "name": "python3"
  },
  "language_info": {
   "codemirror_mode": {
    "name": "ipython",
    "version": 3
   },
   "file_extension": ".py",
   "mimetype": "text/x-python",
   "name": "python",
   "nbconvert_exporter": "python",
   "pygments_lexer": "ipython3",
   "version": "3.7.4"
  }
 },
 "nbformat": 4,
 "nbformat_minor": 2
}
