{
 "cells": [
  {
   "cell_type": "code",
   "execution_count": 37,
   "metadata": {},
   "outputs": [],
   "source": [
    "import pandas as pd\n",
    "from sklearn.tree import DecisionTreeClassifier \n",
    "from sklearn.model_selection import train_test_split\n",
    "from sklearn import metrics "
   ]
  },
  {
   "cell_type": "code",
   "execution_count": 38,
   "metadata": {},
   "outputs": [],
   "source": [
    "pima = pd.read_csv('pass_data.csv')"
   ]
  },
  {
   "cell_type": "code",
   "execution_count": 14,
   "metadata": {},
   "outputs": [
    {
     "data": {
      "text/html": [
       "<div>\n",
       "<style scoped>\n",
       "    .dataframe tbody tr th:only-of-type {\n",
       "        vertical-align: middle;\n",
       "    }\n",
       "\n",
       "    .dataframe tbody tr th {\n",
       "        vertical-align: top;\n",
       "    }\n",
       "\n",
       "    .dataframe thead th {\n",
       "        text-align: right;\n",
       "    }\n",
       "</style>\n",
       "<table border=\"1\" class=\"dataframe\">\n",
       "  <thead>\n",
       "    <tr style=\"text-align: right;\">\n",
       "      <th></th>\n",
       "      <th>AppName</th>\n",
       "      <th>TCID</th>\n",
       "      <th>STATUS</th>\n",
       "      <th>EXEDATE</th>\n",
       "      <th>PASSED</th>\n",
       "    </tr>\n",
       "  </thead>\n",
       "  <tbody>\n",
       "    <tr>\n",
       "      <td>0</td>\n",
       "      <td>DNM</td>\n",
       "      <td>2.0</td>\n",
       "      <td>Pass</td>\n",
       "      <td>05.01.19</td>\n",
       "      <td>2.0</td>\n",
       "    </tr>\n",
       "    <tr>\n",
       "      <td>1</td>\n",
       "      <td>DNM</td>\n",
       "      <td>5.0</td>\n",
       "      <td>Pass</td>\n",
       "      <td>08.31.19</td>\n",
       "      <td>2.0</td>\n",
       "    </tr>\n",
       "    <tr>\n",
       "      <td>2</td>\n",
       "      <td>DNM</td>\n",
       "      <td>6.0</td>\n",
       "      <td>Pass</td>\n",
       "      <td>07.05.19</td>\n",
       "      <td>2.0</td>\n",
       "    </tr>\n",
       "    <tr>\n",
       "      <td>3</td>\n",
       "      <td>DNM</td>\n",
       "      <td>7.0</td>\n",
       "      <td>Pass</td>\n",
       "      <td>04.29.19</td>\n",
       "      <td>2.0</td>\n",
       "    </tr>\n",
       "    <tr>\n",
       "      <td>4</td>\n",
       "      <td>DNM</td>\n",
       "      <td>13.0</td>\n",
       "      <td>Pass</td>\n",
       "      <td>08.11.19</td>\n",
       "      <td>2.0</td>\n",
       "    </tr>\n",
       "  </tbody>\n",
       "</table>\n",
       "</div>"
      ],
      "text/plain": [
       "  AppName  TCID STATUS   EXEDATE  PASSED\n",
       "0     DNM   2.0   Pass  05.01.19     2.0\n",
       "1     DNM   5.0   Pass  08.31.19     2.0\n",
       "2     DNM   6.0   Pass  07.05.19     2.0\n",
       "3     DNM   7.0   Pass  04.29.19     2.0\n",
       "4     DNM  13.0   Pass  08.11.19     2.0"
      ]
     },
     "execution_count": 14,
     "metadata": {},
     "output_type": "execute_result"
    }
   ],
   "source": [
    "pima.head()"
   ]
  },
  {
   "cell_type": "code",
   "execution_count": 15,
   "metadata": {},
   "outputs": [
    {
     "data": {
      "text/plain": [
       "0      050119\n",
       "1      083119\n",
       "2      070519\n",
       "3      042919\n",
       "4      081119\n",
       "        ...  \n",
       "156    071119\n",
       "157    081419\n",
       "158    092419\n",
       "159    072919\n",
       "160    091919\n",
       "Name: mEXEDATE, Length: 161, dtype: object"
      ]
     },
     "execution_count": 15,
     "metadata": {},
     "output_type": "execute_result"
    }
   ],
   "source": [
    "pima['AppName'].unique()\n",
    "dict={'OnePlan':1, 'VPlan':2, 'ICGS':3, 'COEP':4, 'GFIM':5, 'PRS':6, 'WFM':7, 'COEA':8,\n",
    "       'vATOM':9, 'DNM':10}\n",
    "pima['mAppName']=pima['AppName'].map(dict)\n",
    "dict1={\"Pass\":1,\"Fail\":0}\n",
    "pima['mSTATUS']=pima['STATUS'].map(dict1)\n",
    "pima['mPASSED']=pima['PASSED'].apply(lambda x: int(x*10))\n",
    "pima['mEXEDATE']=pima['EXEDATE'].apply(lambda x: str(x).replace('.',\"\"))\n",
    "pima['mEXEDATE']"
   ]
  },
  {
   "cell_type": "code",
   "execution_count": 30,
   "metadata": {},
   "outputs": [],
   "source": [
    "feature_cols = [ 'AppName','TCID', 'mSTATUS','mEXEDATE']\n",
    "X = pima[feature_cols] # Features\n",
    "y = pima.mPASSED # Target variable\n"
   ]
  },
  {
   "cell_type": "code",
   "execution_count": 31,
   "metadata": {},
   "outputs": [
    {
     "name": "stdout",
     "output_type": "stream",
     "text": [
      "      TCID  mSTATUS mEXEDATE\n",
      "105   68.0        1   051919\n",
      "28    62.0        1   051719\n",
      "56   122.0        1   041319\n",
      "119  113.0        1   071719\n",
      "108   76.0        1   050619\n",
      "..     ...      ...      ...\n",
      "133  165.0        1   091519\n",
      "137  190.0        1   070619\n",
      "72   159.0        1   082919\n",
      "140  195.0        1   040419\n",
      "37    85.0        1   093019\n",
      "\n",
      "[112 rows x 3 columns]\n"
     ]
    }
   ],
   "source": [
    "X_train, X_test, y_train, y_test = train_test_split(X, y, test_size=0.3, random_state=1)\n",
    "print(X_train)"
   ]
  },
  {
   "cell_type": "code",
   "execution_count": 32,
   "metadata": {},
   "outputs": [],
   "source": [
    "clf = DecisionTreeClassifier(criterion=\"entropy\", max_depth=3)\n",
    "clf = clf.fit(X_train,y_train)\n"
   ]
  },
  {
   "cell_type": "code",
   "execution_count": 33,
   "metadata": {},
   "outputs": [],
   "source": [
    "y_pred = clf.predict(X_test)"
   ]
  },
  {
   "cell_type": "code",
   "execution_count": 34,
   "metadata": {},
   "outputs": [
    {
     "name": "stdout",
     "output_type": "stream",
     "text": [
      "Accuracy: 0.5102040816326531\n"
     ]
    }
   ],
   "source": [
    "print(\"Accuracy:\",metrics.accuracy_score(y_test, y_pred))"
   ]
  },
  {
   "cell_type": "code",
   "execution_count": 35,
   "metadata": {},
   "outputs": [
    {
     "name": "stdout",
     "output_type": "stream",
     "text": [
      "[20 20 20 20 20 20 20 20 20 20 21 20 20 20 21 20 20 20 20 20 20 20 20 20\n",
      " 20 21 20 20 20 20 20 20 21 20 20 20 20 21 20 20 20 20 20 20 20 20 20 20\n",
      " 20]\n"
     ]
    }
   ],
   "source": [
    "print(y_pred)"
   ]
  },
  {
   "cell_type": "code",
   "execution_count": 36,
   "metadata": {},
   "outputs": [
    {
     "name": "stdout",
     "output_type": "stream",
     "text": [
      "[[24  4  0  0]\n",
      " [14  1  0  0]\n",
      " [ 4  0  0  0]\n",
      " [ 2  0  0  0]]\n",
      "              precision    recall  f1-score   support\n",
      "\n",
      "          20       0.55      0.86      0.67        28\n",
      "          21       0.20      0.07      0.10        15\n",
      "          22       0.00      0.00      0.00         4\n",
      "          23       0.00      0.00      0.00         2\n",
      "\n",
      "    accuracy                           0.51        49\n",
      "   macro avg       0.19      0.23      0.19        49\n",
      "weighted avg       0.37      0.51      0.41        49\n",
      "\n"
     ]
    },
    {
     "name": "stderr",
     "output_type": "stream",
     "text": [
      "C:\\Users\\761317\\AppData\\Roaming\\Python\\Python36\\site-packages\\sklearn\\metrics\\classification.py:1437: UndefinedMetricWarning: Precision and F-score are ill-defined and being set to 0.0 in labels with no predicted samples.\n",
      "  'precision', 'predicted', average, warn_for)\n"
     ]
    }
   ],
   "source": [
    "from sklearn.metrics import classification_report, confusion_matrix\n",
    "print(confusion_matrix(y_test, y_pred))\n",
    "print(classification_report(y_test, y_pred))"
   ]
  },
  {
   "cell_type": "code",
   "execution_count": null,
   "metadata": {},
   "outputs": [],
   "source": []
  }
 ],
 "metadata": {
  "kernelspec": {
   "display_name": "Python 3",
   "language": "python",
   "name": "python3"
  },
  "language_info": {
   "codemirror_mode": {
    "name": "ipython",
    "version": 3
   },
   "file_extension": ".py",
   "mimetype": "text/x-python",
   "name": "python",
   "nbconvert_exporter": "python",
   "pygments_lexer": "ipython3",
   "version": "3.7.4"
  }
 },
 "nbformat": 4,
 "nbformat_minor": 2
}
